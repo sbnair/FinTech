{
 "cells": [
  {
   "cell_type": "code",
   "execution_count": 41,
   "metadata": {
    "collapsed": false
   },
   "outputs": [],
   "source": [
    "from sklearn import linear_model\n",
    "from sklearn.preprocessing import StandardScaler\n",
    "%run  Data_Preprocessing.ipynb\n",
    "import statsmodels.api as sm\n",
    "from scipy import stats"
   ]
  },
  {
   "cell_type": "code",
   "execution_count": 42,
   "metadata": {
    "collapsed": false
   },
   "outputs": [
    {
     "data": {
      "text/html": [
       "<div>\n",
       "<table border=\"1\" class=\"dataframe\">\n",
       "  <thead>\n",
       "    <tr style=\"text-align: right;\">\n",
       "      <th></th>\n",
       "      <th>Country</th>\n",
       "      <th>Code</th>\n",
       "      <th>ATMs per 1000 Adults</th>\n",
       "      <th>iPhone Users</th>\n",
       "      <th>Starbucks Locations</th>\n",
       "      <th>GEI Score</th>\n",
       "    </tr>\n",
       "  </thead>\n",
       "  <tbody>\n",
       "    <tr>\n",
       "      <th>0</th>\n",
       "      <td>United Arab Emirates</td>\n",
       "      <td>AE</td>\n",
       "      <td>61.909397</td>\n",
       "      <td>17943000</td>\n",
       "      <td>144</td>\n",
       "      <td>58.8</td>\n",
       "    </tr>\n",
       "    <tr>\n",
       "      <th>1</th>\n",
       "      <td>Argentina</td>\n",
       "      <td>AR</td>\n",
       "      <td>58.841633</td>\n",
       "      <td>60664000</td>\n",
       "      <td>108</td>\n",
       "      <td>22.2</td>\n",
       "    </tr>\n",
       "    <tr>\n",
       "      <th>2</th>\n",
       "      <td>Australia</td>\n",
       "      <td>AU</td>\n",
       "      <td>160.137780</td>\n",
       "      <td>31770000</td>\n",
       "      <td>22</td>\n",
       "      <td>72.5</td>\n",
       "    </tr>\n",
       "    <tr>\n",
       "      <th>3</th>\n",
       "      <td>Austria</td>\n",
       "      <td>AT</td>\n",
       "      <td>119.094724</td>\n",
       "      <td>13471000</td>\n",
       "      <td>18</td>\n",
       "      <td>63.5</td>\n",
       "    </tr>\n",
       "  </tbody>\n",
       "</table>\n",
       "</div>"
      ],
      "text/plain": [
       "                Country Code  ATMs per 1000 Adults  iPhone Users  \\\n",
       "0  United Arab Emirates   AE             61.909397      17943000   \n",
       "1             Argentina   AR             58.841633      60664000   \n",
       "2             Australia   AU            160.137780      31770000   \n",
       "3               Austria   AT            119.094724      13471000   \n",
       "\n",
       "   Starbucks Locations  GEI Score  \n",
       "0                  144       58.8  \n",
       "1                  108       22.2  \n",
       "2                   22       72.5  \n",
       "3                   18       63.5  "
      ]
     },
     "execution_count": 42,
     "metadata": {},
     "output_type": "execute_result"
    }
   ],
   "source": [
    "final.head(4)"
   ]
  },
  {
   "cell_type": "code",
   "execution_count": 43,
   "metadata": {
    "collapsed": false
   },
   "outputs": [
    {
     "name": "stdout",
     "output_type": "stream",
     "text": [
      "Coefficients: [[ 0.45730103 -0.1847084  -0.0497842 ]]\n",
      "Intercept is [  5.87905996e-16]\n",
      "R^2 is 24.7475503946 %\n"
     ]
    }
   ],
   "source": [
    "x = final[[\"ATMs per 1000 Adults\",\"iPhone Users\",\"Starbucks Locations\"]]\n",
    "y = final[[\"GEI Score\"]]\n",
    "\n",
    "#Standardizing the variables\n",
    "stdsc = StandardScaler()\n",
    "x_std = stdsc.fit_transform(x)\n",
    "y_std = stdsc.fit_transform(y)\n",
    "\n",
    "model = linear_model.LinearRegression(fit_intercept=True)\n",
    "model.fit(x_std, y_std)\n",
    "\n",
    "print \"Coefficients:\", model.coef_\n",
    "print \"Intercept is\", model.intercept_\n",
    "print \"R^2 is\", model.score(x_std, y_std)*100, \"%\"\n",
    "\n"
   ]
  },
  {
   "cell_type": "markdown",
   "metadata": {
    "collapsed": false
   },
   "source": [
    "### What does that mean?\n",
    "\n",
    "R2 is a percentage of how close the data are to be fitted on a regression line so 24% is clearly a low score. However, this is can tell use that the data is non-linear and so the variables need to be changed or a new nonlinear algorithm needs to be used.\n",
    "\n",
    "GEI scores are calculated by combining a chunk of elements. One of the elements is people's attitudes and perception towards entrepreneurship. In fact,  human psychology is always very hard to predict and usually always has a low R2. However, this can be fixed in the other models"
   ]
  },
  {
   "cell_type": "code",
   "execution_count": 44,
   "metadata": {
    "collapsed": false
   },
   "outputs": [
    {
     "name": "stdout",
     "output_type": "stream",
     "text": [
      "                            OLS Regression Results                            \n",
      "==============================================================================\n",
      "Dep. Variable:                      y   R-squared:                       0.247\n",
      "Model:                            OLS   Adj. R-squared:                  0.201\n",
      "Method:                 Least Squares   F-statistic:                     5.371\n",
      "Date:                Sat, 18 Mar 2017   Prob (F-statistic):            0.00281\n",
      "Time:                        19:03:27   Log-Likelihood:                -66.392\n",
      "No. Observations:                  52   AIC:                             138.8\n",
      "Df Residuals:                      49   BIC:                             144.6\n",
      "Df Model:                           3                                         \n",
      "Covariance Type:            nonrobust                                         \n",
      "========================================================================================\n",
      "                           coef    std err          t      P>|t|      [95.0% Conf. Int.]\n",
      "----------------------------------------------------------------------------------------\n",
      "ATMs per 1000 Adults     0.4573      0.145      3.163      0.003         0.167     0.748\n",
      "iPhone Users            -0.1847      0.128     -1.446      0.155        -0.441     0.072\n",
      "Starbucks Locations     -0.0498      0.145     -0.345      0.732        -0.340     0.241\n",
      "==============================================================================\n",
      "Omnibus:                        2.290   Durbin-Watson:                   2.078\n",
      "Prob(Omnibus):                  0.318   Jarque-Bera (JB):                2.062\n",
      "Skew:                           0.387   Prob(JB):                        0.357\n",
      "Kurtosis:                       2.406   Cond. No.                         1.79\n",
      "==============================================================================\n",
      "\n",
      "Warnings:\n",
      "[1] Standard Errors assume that the covariance matrix of the errors is correctly specified.\n"
     ]
    }
   ],
   "source": [
    "#Renaming coloumns\n",
    "x_std = pd.DataFrame(x_std)\n",
    "x_std.columns = [\"ATMs per 1000 Adults\",\"iPhone Users\",\"Starbucks Locations\"]\n",
    "\n",
    "#OLS Regression Results using Scipy\n",
    "res = sm.OLS(y_std, x_std).fit()\n",
    "print(res.summary())"
   ]
  }
 ],
 "metadata": {
  "anaconda-cloud": {},
  "kernelspec": {
   "display_name": "Python [default]",
   "language": "python",
   "name": "python2"
  },
  "language_info": {
   "codemirror_mode": {
    "name": "ipython",
    "version": 2
   },
   "file_extension": ".py",
   "mimetype": "text/x-python",
   "name": "python",
   "nbconvert_exporter": "python",
   "pygments_lexer": "ipython2",
   "version": "2.7.12"
  }
 },
 "nbformat": 4,
 "nbformat_minor": 1
}
