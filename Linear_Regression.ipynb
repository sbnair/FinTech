{
 "cells": [
  {
   "cell_type": "code",
   "execution_count": 19,
   "metadata": {
    "collapsed": false
   },
   "outputs": [],
   "source": [
    "from sklearn import linear_model\n",
    "from sklearn.preprocessing import StandardScaler\n",
    "%run  Data.ipynb"
   ]
  },
  {
   "cell_type": "code",
   "execution_count": 18,
   "metadata": {
    "collapsed": false
   },
   "outputs": [
    {
     "data": {
      "text/html": [
       "<div>\n",
       "<table border=\"1\" class=\"dataframe\">\n",
       "  <thead>\n",
       "    <tr style=\"text-align: right;\">\n",
       "      <th></th>\n",
       "      <th>Country</th>\n",
       "      <th>Code</th>\n",
       "      <th>ATMs per 1000 Adults</th>\n",
       "      <th>iPhone Users</th>\n",
       "      <th>Starbucks Locations</th>\n",
       "      <th>GEI Score</th>\n",
       "    </tr>\n",
       "  </thead>\n",
       "  <tbody>\n",
       "    <tr>\n",
       "      <th>0</th>\n",
       "      <td>United Arab Emirates</td>\n",
       "      <td>AE</td>\n",
       "      <td>61.909397</td>\n",
       "      <td>17943000</td>\n",
       "      <td>144</td>\n",
       "      <td>58.8</td>\n",
       "    </tr>\n",
       "    <tr>\n",
       "      <th>1</th>\n",
       "      <td>Argentina</td>\n",
       "      <td>AR</td>\n",
       "      <td>58.841633</td>\n",
       "      <td>60664000</td>\n",
       "      <td>108</td>\n",
       "      <td>22.2</td>\n",
       "    </tr>\n",
       "    <tr>\n",
       "      <th>2</th>\n",
       "      <td>Australia</td>\n",
       "      <td>AU</td>\n",
       "      <td>160.137780</td>\n",
       "      <td>31770000</td>\n",
       "      <td>22</td>\n",
       "      <td>72.5</td>\n",
       "    </tr>\n",
       "    <tr>\n",
       "      <th>3</th>\n",
       "      <td>Austria</td>\n",
       "      <td>AT</td>\n",
       "      <td>119.094724</td>\n",
       "      <td>13471000</td>\n",
       "      <td>18</td>\n",
       "      <td>63.5</td>\n",
       "    </tr>\n",
       "  </tbody>\n",
       "</table>\n",
       "</div>"
      ],
      "text/plain": [
       "                Country Code  ATMs per 1000 Adults  iPhone Users  \\\n",
       "0  United Arab Emirates   AE             61.909397      17943000   \n",
       "1             Argentina   AR             58.841633      60664000   \n",
       "2             Australia   AU            160.137780      31770000   \n",
       "3               Austria   AT            119.094724      13471000   \n",
       "\n",
       "   Starbucks Locations  GEI Score  \n",
       "0                  144       58.8  \n",
       "1                  108       22.2  \n",
       "2                   22       72.5  \n",
       "3                   18       63.5  "
      ]
     },
     "execution_count": 18,
     "metadata": {},
     "output_type": "execute_result"
    }
   ],
   "source": [
    "final.head(4)"
   ]
  },
  {
   "cell_type": "code",
   "execution_count": 17,
   "metadata": {
    "collapsed": false
   },
   "outputs": [
    {
     "name": "stdout",
     "output_type": "stream",
     "text": [
      "Coefficients: [[ 0.45730103 -0.1847084  -0.0497842 ]]\n",
      "Intercept is [  5.87905996e-16]\n",
      "R^2 is 24.7475503946 %\n"
     ]
    }
   ],
   "source": [
    "x = final[[\"ATMs per 1000 Adults\",\"iPhone Users\",\"Starbucks Locations\"]]\n",
    "y = final[[\"GEI Score\"]]\n",
    "\n",
    "#standardizing the variables\n",
    "stdsc = StandardScaler()\n",
    "x_std = stdsc.fit_transform(x)\n",
    "y_std = stdsc.fit_transform(y)\n",
    "\n",
    "model = linear_model.LinearRegression(fit_intercept=True)\n",
    "model.fit(x_std, y_std)\n",
    "\n",
    "print \"Coefficients:\", model.coef_\n",
    "print \"Intercept is\", model.intercept_\n",
    "print \"R^2 is\", model.score(x_std, y_std)*100, \"%\""
   ]
  },
  {
   "cell_type": "markdown",
   "metadata": {
    "collapsed": false
   },
   "source": [
    "### What does that mean?\n",
    "\n",
    "R2 is a percentage of how close the data are to be fitted on a regression line so 24% is clearly a low score. However, this is can tell use that the data is non-linear and so the variables need to be changed or a new nonlinear algorithm needs to be used.\n",
    "\n",
    "GEI scores are calculated by combining a chunk of elements. One of the elements is people's attitudes and perception towards entrepreneurship. In fact,  human psychology is always very hard to predict and usually always has a low R2. However, this can be fixed in the other models"
   ]
  }
 ],
 "metadata": {
  "anaconda-cloud": {},
  "kernelspec": {
   "display_name": "Python [default]",
   "language": "python",
   "name": "python2"
  },
  "language_info": {
   "codemirror_mode": {
    "name": "ipython",
    "version": 2
   },
   "file_extension": ".py",
   "mimetype": "text/x-python",
   "name": "python",
   "nbconvert_exporter": "python",
   "pygments_lexer": "ipython2",
   "version": "2.7.12"
  }
 },
 "nbformat": 4,
 "nbformat_minor": 1
}
