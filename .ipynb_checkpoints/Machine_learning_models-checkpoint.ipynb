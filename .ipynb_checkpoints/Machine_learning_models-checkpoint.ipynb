{
 "cells": [
  {
   "cell_type": "code",
   "execution_count": 7,
   "metadata": {},
   "outputs": [],
   "source": [
    "%run  Data_processing.ipynb\n",
    "from sklearn import linear_model\n",
    "from sklearn.preprocessing import StandardScaler\n",
    "import statsmodels.api as sm\n",
    "from scipy import stats"
   ]
  },
  {
   "cell_type": "markdown",
   "metadata": {},
   "source": [
    "### Machine learning models used\n",
    "> * Linear Regression\n",
    "* Logistic Regression\n",
    "* Naive Bayes\n",
    "* Random Forest \n",
    "* Support Vector Machines"
   ]
  },
  {
   "cell_type": "code",
   "execution_count": 87,
   "metadata": {},
   "outputs": [
    {
     "data": {
      "text/html": [
       "<div>\n",
       "<table border=\"1\" class=\"dataframe\">\n",
       "  <thead>\n",
       "    <tr style=\"text-align: right;\">\n",
       "      <th></th>\n",
       "      <th>Country</th>\n",
       "      <th>Code</th>\n",
       "      <th>ATMs per 1000 Adults</th>\n",
       "      <th>iPhone Users</th>\n",
       "      <th>Starbucks Locations</th>\n",
       "      <th>GEI Score</th>\n",
       "    </tr>\n",
       "  </thead>\n",
       "  <tbody>\n",
       "    <tr>\n",
       "      <th>0</th>\n",
       "      <td>Switzerland</td>\n",
       "      <td>CH</td>\n",
       "      <td>97.611221</td>\n",
       "      <td>11700000</td>\n",
       "      <td>61</td>\n",
       "      <td>1</td>\n",
       "    </tr>\n",
       "    <tr>\n",
       "      <th>1</th>\n",
       "      <td>Canada</td>\n",
       "      <td>CA</td>\n",
       "      <td>221.126457</td>\n",
       "      <td>29390000</td>\n",
       "      <td>1468</td>\n",
       "      <td>1</td>\n",
       "    </tr>\n",
       "    <tr>\n",
       "      <th>2</th>\n",
       "      <td>Sweden</td>\n",
       "      <td>SE</td>\n",
       "      <td>40.178787</td>\n",
       "      <td>12639000</td>\n",
       "      <td>18</td>\n",
       "      <td>1</td>\n",
       "    </tr>\n",
       "    <tr>\n",
       "      <th>3</th>\n",
       "      <td>Denmark</td>\n",
       "      <td>DK</td>\n",
       "      <td>54.014077</td>\n",
       "      <td>7266000</td>\n",
       "      <td>21</td>\n",
       "      <td>1</td>\n",
       "    </tr>\n",
       "    <tr>\n",
       "      <th>4</th>\n",
       "      <td>Australia</td>\n",
       "      <td>AU</td>\n",
       "      <td>160.137780</td>\n",
       "      <td>31770000</td>\n",
       "      <td>22</td>\n",
       "      <td>1</td>\n",
       "    </tr>\n",
       "  </tbody>\n",
       "</table>\n",
       "</div>"
      ],
      "text/plain": [
       "       Country Code  ATMs per 1000 Adults  iPhone Users  Starbucks Locations  \\\n",
       "0  Switzerland   CH             97.611221      11700000                   61   \n",
       "1       Canada   CA            221.126457      29390000                 1468   \n",
       "2       Sweden   SE             40.178787      12639000                   18   \n",
       "3      Denmark   DK             54.014077       7266000                   21   \n",
       "4    Australia   AU            160.137780      31770000                   22   \n",
       "\n",
       "   GEI Score  \n",
       "0          1  \n",
       "1          1  \n",
       "2          1  \n",
       "3          1  \n",
       "4          1  "
      ]
     },
     "execution_count": 87,
     "metadata": {},
     "output_type": "execute_result"
    }
   ],
   "source": [
    "# Show final data\n",
    "final.head()"
   ]
  },
  {
   "cell_type": "markdown",
   "metadata": {},
   "source": [
    "### 1- Linear Regression"
   ]
  },
  {
   "cell_type": "code",
   "execution_count": 45,
   "metadata": {},
   "outputs": [
    {
     "name": "stdout",
     "output_type": "stream",
     "text": [
      "R^2 is 25.0 %\n"
     ]
    }
   ],
   "source": [
    "# Subset data into features and labels \n",
    "x = final[[\"ATMs per 1000 Adults\",\"iPhone Users\",\"Starbucks Locations\"]]\n",
    "y = final[[\"GEI Score\"]]\n",
    "\n",
    "# Standardizing the variables\n",
    "stdsc = StandardScaler()\n",
    "x_std = stdsc.fit_transform(x)\n",
    "y_std = stdsc.fit_transform(y)\n",
    "\n",
    "model = linear_model.LinearRegression(fit_intercept=True)\n",
    "model.fit(x_std, y_std)\n",
    "\n",
    "print \"R^2 is\", round(model.score(x_std, y_std)*100), \"%\""
   ]
  },
  {
   "cell_type": "markdown",
   "metadata": {},
   "source": [
    "### What does that mean?\n",
    "\n",
    "R2 is a percentage of how close the data are to be fitted on a regression line so 24% is clearly a low score. However, this is can tell use that the data is non-linear and so the variables need to be adjusted or a new nonlinear algorithm needs to be used.\n",
    "\n",
    "GEI scores are calculated by combining a chunk of elements. One of the elements is people's attitudes and perception towards entrepreneurship. In fact,  human psychology is always very hard to predict and usually always has a low R2. However, this can be fixed in the other models"
   ]
  },
  {
   "cell_type": "code",
   "execution_count": 6,
   "metadata": {},
   "outputs": [
    {
     "name": "stdout",
     "output_type": "stream",
     "text": [
      "                            OLS Regression Results                            \n",
      "==============================================================================\n",
      "Dep. Variable:                      y   R-squared:                       0.247\n",
      "Model:                            OLS   Adj. R-squared:                  0.201\n",
      "Method:                 Least Squares   F-statistic:                     5.371\n",
      "Date:                Sat, 18 Mar 2017   Prob (F-statistic):            0.00281\n",
      "Time:                        21:58:31   Log-Likelihood:                -66.392\n",
      "No. Observations:                  52   AIC:                             138.8\n",
      "Df Residuals:                      49   BIC:                             144.6\n",
      "Df Model:                           3                                         \n",
      "Covariance Type:            nonrobust                                         \n",
      "========================================================================================\n",
      "                           coef    std err          t      P>|t|      [95.0% Conf. Int.]\n",
      "----------------------------------------------------------------------------------------\n",
      "ATMs per 1000 Adults     0.4573      0.145      3.163      0.003         0.167     0.748\n",
      "iPhone Users            -0.1847      0.128     -1.446      0.155        -0.441     0.072\n",
      "Starbucks Locations     -0.0498      0.145     -0.345      0.732        -0.340     0.241\n",
      "==============================================================================\n",
      "Omnibus:                        2.290   Durbin-Watson:                   2.078\n",
      "Prob(Omnibus):                  0.318   Jarque-Bera (JB):                2.062\n",
      "Skew:                           0.387   Prob(JB):                        0.357\n",
      "Kurtosis:                       2.406   Cond. No.                         1.79\n",
      "==============================================================================\n",
      "\n",
      "Warnings:\n",
      "[1] Standard Errors assume that the covariance matrix of the errors is correctly specified.\n"
     ]
    }
   ],
   "source": [
    "# Renaming coloumns\n",
    "x_std = pd.DataFrame(x_std)\n",
    "x_std.columns = [\"ATMs per 1000 Adults\",\"iPhone Users\",\"Starbucks Locations\"]\n",
    "\n",
    "# OLS Regression Results using Scipy\n",
    "res = sm.OLS(y_std, x_std).fit()\n",
    "print(res.summary())"
   ]
  },
  {
   "cell_type": "markdown",
   "metadata": {},
   "source": [
    "### Intresting Results:\n",
    " \n",
    " The OLS regression results conclude that the ATM variable is not statistically significant. Although it has the strongest coefficient and correlation with the label, some outliers need to be removed to get better results.\n",
    " \n",
    "It's also very interesting to know that as iPhone Users increase per country the entrepreneurship index decreases. It was always thought that as a country develops people adapt to new technologies and innovate. This project's outcome tells us the opposite."
   ]
  },
  {
   "cell_type": "markdown",
   "metadata": {},
   "source": [
    "### Classification Model's outline\n",
    "> * Transform target variable into a binary outcome\n",
    "* Split data into a training and a testing set\n",
    "* Train model and evaluate score"
   ]
  },
  {
   "cell_type": "markdown",
   "metadata": {},
   "source": [
    "### Transform data for binary classification"
   ]
  },
  {
   "cell_type": "code",
   "execution_count": 47,
   "metadata": {
    "collapsed": true
   },
   "outputs": [],
   "source": [
    "# Convert the GEI Score into a binary output\n",
    "final = final.sort_values([\"GEI Score\"], ascending=False)\n",
    "final = final.reset_index(drop=True)\n",
    "\n",
    "# Any country with GEI score above 42.2 is considered a potential country\n",
    "final['GEI Score'] = final['GEI Score'].apply(lambda x: 1 if x >= 42.2 else 0)\n",
    "final['GEI Score'] = final[\"GEI Score\"].astype(bool)\n",
    "final['GEI Score'] = final[\"GEI Score\"].astype(int)"
   ]
  },
  {
   "cell_type": "markdown",
   "metadata": {},
   "source": [
    "<img src=\"pics/GEI.png\" width=\"850\">\n",
    "\n",
    "This map was exported from the GEDI website, check it out [here](http://thegedi.org/countries), and it shows that countries with an index lower than 42.2, colored in orange, were not considered top ranked countries and that is why countries above that threshold were considered awesome for expansion and were labeled 1 and all the other countries were labeled 0. "
   ]
  },
  {
   "cell_type": "code",
   "execution_count": 50,
   "metadata": {},
   "outputs": [
    {
     "data": {
      "text/html": [
       "<div>\n",
       "<table border=\"1\" class=\"dataframe\">\n",
       "  <thead>\n",
       "    <tr style=\"text-align: right;\">\n",
       "      <th></th>\n",
       "      <th>Country</th>\n",
       "      <th>Code</th>\n",
       "      <th>ATMs per 1000 Adults</th>\n",
       "      <th>iPhone Users</th>\n",
       "      <th>Starbucks Locations</th>\n",
       "      <th>GEI Score</th>\n",
       "    </tr>\n",
       "  </thead>\n",
       "  <tbody>\n",
       "    <tr>\n",
       "      <th>0</th>\n",
       "      <td>Switzerland</td>\n",
       "      <td>CH</td>\n",
       "      <td>97.611221</td>\n",
       "      <td>11700000</td>\n",
       "      <td>61</td>\n",
       "      <td>1</td>\n",
       "    </tr>\n",
       "    <tr>\n",
       "      <th>1</th>\n",
       "      <td>Canada</td>\n",
       "      <td>CA</td>\n",
       "      <td>221.126457</td>\n",
       "      <td>29390000</td>\n",
       "      <td>1468</td>\n",
       "      <td>1</td>\n",
       "    </tr>\n",
       "    <tr>\n",
       "      <th>2</th>\n",
       "      <td>Sweden</td>\n",
       "      <td>SE</td>\n",
       "      <td>40.178787</td>\n",
       "      <td>12639000</td>\n",
       "      <td>18</td>\n",
       "      <td>1</td>\n",
       "    </tr>\n",
       "    <tr>\n",
       "      <th>3</th>\n",
       "      <td>Denmark</td>\n",
       "      <td>DK</td>\n",
       "      <td>54.014077</td>\n",
       "      <td>7266000</td>\n",
       "      <td>21</td>\n",
       "      <td>1</td>\n",
       "    </tr>\n",
       "    <tr>\n",
       "      <th>4</th>\n",
       "      <td>Australia</td>\n",
       "      <td>AU</td>\n",
       "      <td>160.137780</td>\n",
       "      <td>31770000</td>\n",
       "      <td>22</td>\n",
       "      <td>1</td>\n",
       "    </tr>\n",
       "  </tbody>\n",
       "</table>\n",
       "</div>"
      ],
      "text/plain": [
       "       Country Code  ATMs per 1000 Adults  iPhone Users  Starbucks Locations  \\\n",
       "0  Switzerland   CH             97.611221      11700000                   61   \n",
       "1       Canada   CA            221.126457      29390000                 1468   \n",
       "2       Sweden   SE             40.178787      12639000                   18   \n",
       "3      Denmark   DK             54.014077       7266000                   21   \n",
       "4    Australia   AU            160.137780      31770000                   22   \n",
       "\n",
       "   GEI Score  \n",
       "0          1  \n",
       "1          1  \n",
       "2          1  \n",
       "3          1  \n",
       "4          1  "
      ]
     },
     "execution_count": 50,
     "metadata": {},
     "output_type": "execute_result"
    }
   ],
   "source": [
    "final.head()"
   ]
  },
  {
   "cell_type": "markdown",
   "metadata": {},
   "source": [
    "### Split data into testing and training sets"
   ]
  },
  {
   "cell_type": "code",
   "execution_count": 84,
   "metadata": {},
   "outputs": [],
   "source": [
    "from sklearn.model_selection import train_test_split\n",
    "\n",
    "X_train, X_test, y_train, y_test = train_test_split(X, y, \n",
    "                                                    test_size=0.33, \n",
    "                                                    random_state=42)"
   ]
  },
  {
   "cell_type": "markdown",
   "metadata": {},
   "source": [
    "### 2 - Logistic Regression"
   ]
  },
  {
   "cell_type": "code",
   "execution_count": 86,
   "metadata": {},
   "outputs": [
    {
     "name": "stdout",
     "output_type": "stream",
     "text": [
      "Logistic Regression's accuracy is 44.0 %\n"
     ]
    }
   ],
   "source": [
    "from sklearn.linear_model import LogisticRegression\n",
    "\n",
    "logreg = LogisticRegression()\n",
    "logreg.fit(X_train, y_train)\n",
    "\n",
    "print \"Logistic Regression's accuracy is\", round(logreg.score(X_test,y_test)*100),\"%\""
   ]
  },
  {
   "cell_type": "markdown",
   "metadata": {},
   "source": [
    "### What does that mean?\n",
    "\n",
    "- The logistic regression model was able to classify the test data correctly 44% of the time. Although this score will have to be compared with the other models, its still considered a low score for a supervised learning algorithm.\n",
    "\n",
    "- More adjustments would need to be made to the model, for example, removing outliers, feature scaling or normalization. "
   ]
  },
  {
   "cell_type": "markdown",
   "metadata": {},
   "source": [
    "### 3 - Naive Bayes:\n",
    "**Gaussian** was used as opposed to **Bernoulli** because the features were continuous variables. If the situation was different then Bernoulli would have been used"
   ]
  },
  {
   "cell_type": "code",
   "execution_count": 83,
   "metadata": {},
   "outputs": [
    {
     "name": "stdout",
     "output_type": "stream",
     "text": [
      "Naive Baye's Accuracy is 44.0 %\n"
     ]
    }
   ],
   "source": [
    "from sklearn.naive_bayes import GaussianNB\n",
    "\n",
    "gnb = GaussianNB()\n",
    "gnb.fit(X_train, y_train)\n",
    "\n",
    "print \"Naive Baye's Accuracy is\", round(gnb.score(X_test, y_test) * 100),\"%\""
   ]
  },
  {
   "cell_type": "markdown",
   "metadata": {},
   "source": [
    "### 4 - Random Forest"
   ]
  },
  {
   "cell_type": "code",
   "execution_count": 78,
   "metadata": {},
   "outputs": [
    {
     "name": "stderr",
     "output_type": "stream",
     "text": [
      "/Users/Taher/anaconda/lib/python2.7/site-packages/ipykernel/__main__.py:4: DataConversionWarning: A column-vector y was passed when a 1d array was expected. Please change the shape of y to (n_samples,), for example using ravel().\n"
     ]
    },
    {
     "name": "stdout",
     "output_type": "stream",
     "text": [
      "Random Forests's Accuracy 61.0 %\n"
     ]
    }
   ],
   "source": [
    "from sklearn.ensemble import RandomForestClassifier\n",
    "\n",
    "rf = RandomForestClassifier(n_jobs=2)\n",
    "rf.fit(X_train, y_train)\n",
    "\n",
    "print \"Random Forests's Accuracy\", round(rf.score(X_test,y_test) * 100), \"%\" "
   ]
  },
  {
   "cell_type": "markdown",
   "metadata": {},
   "source": [
    "### 5 - Support Vector Machines"
   ]
  },
  {
   "cell_type": "code",
   "execution_count": 70,
   "metadata": {},
   "outputs": [
    {
     "name": "stdout",
     "output_type": "stream",
     "text": [
      "SVM's Accuracy 44.44 %\n"
     ]
    }
   ],
   "source": [
    "from sklearn import svm\n",
    "\n",
    "svm = (svm.SVC())\n",
    "svm.fit(X_train, y_train)\n",
    "\n",
    "print \"SVM's Accuracy\", round(svm.score(X_test,y_test) * 100, 2), \"%\" "
   ]
  }
 ],
 "metadata": {
  "anaconda-cloud": {},
  "kernelspec": {
   "display_name": "Python [default]",
   "language": "python",
   "name": "python2"
  },
  "language_info": {
   "codemirror_mode": {
    "name": "ipython",
    "version": 2
   },
   "file_extension": ".py",
   "mimetype": "text/x-python",
   "name": "python",
   "nbconvert_exporter": "python",
   "pygments_lexer": "ipython2",
   "version": "2.7.12"
  }
 },
 "nbformat": 4,
 "nbformat_minor": 1
}
